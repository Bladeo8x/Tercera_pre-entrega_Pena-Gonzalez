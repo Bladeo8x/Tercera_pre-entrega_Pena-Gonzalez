{
 "cells": [
  {
   "cell_type": "markdown",
   "metadata": {},
   "source": [
    "Connected to Python 3.11.7"
   ]
  },
  {
   "cell_type": "code",
   "execution_count": 1,
   "metadata": {},
   "outputs": [
    {
     "name": "stdout",
     "output_type": "stream",
     "text": [
      "Cliente: Juan, Dirección: 123 Calle Principal\n",
      "Historial de compras:\n",
      "- Compra de 2 Camiseta por $30.0\n"
     ]
    }
   ],
   "source": [
    "# Contenido de cliente.py\n",
    "class Cliente:\n",
    "    def __init__(self, nombre, direccion, historial_compras=None):\n",
    "        self.nombre = nombre\n",
    "        self.direccion = direccion\n",
    "        self.historial_compras = historial_compras or []\n",
    "\n",
    "    def realizar_compra(self, producto, cantidad, precio_unitario):\n",
    "        total = cantidad * precio_unitario\n",
    "        self.historial_compras.append(f\"Compra de {cantidad} {producto} por ${total}\")\n",
    "\n",
    "    def obtener_historial_compras(self):\n",
    "        return self.historial_compras\n",
    "\n",
    "    def __str__(self):\n",
    "        return f\"Cliente: {self.nombre}, Dirección: {self.direccion}\"\n",
    "\n",
    "# Crear un objeto Cliente\n",
    "cliente1 = Cliente(nombre=\"Juan\", direccion=\"123 Calle Principal\")\n",
    "\n",
    "# Realizar una compra\n",
    "cliente1.realizar_compra(producto=\"Camiseta\", cantidad=2, precio_unitario=15.0)\n",
    "\n",
    "# Imprimir información del cliente\n",
    "print(str(cliente1))\n",
    "\n",
    "# Obtener historial de compras\n",
    "historial = cliente1.obtener_historial_compras()\n",
    "print(\"Historial de compras:\")\n",
    "for compra in historial:\n",
    "    print(\"-\", compra)"
   ]
  },
  {
   "cell_type": "markdown",
   "metadata": {},
   "source": [
    "No kernel connected"
   ]
  }
 ],
 "metadata": {
  "kernelspec": {
   "display_name": "Python 3",
   "language": "python",
   "name": "python3"
  },
  "language_info": {
   "name": "python",
   "version": "3.11.7"
  }
 },
 "nbformat": 4,
 "nbformat_minor": 2
}
